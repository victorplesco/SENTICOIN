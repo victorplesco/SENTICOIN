{
 "cells": [
  {
   "cell_type": "code",
   "execution_count": 12,
   "metadata": {
    "collapsed": true
   },
   "outputs": [],
   "source": [
    "import cryptocompare\n",
    "import pandas as pd\n",
    "import os\n",
    "\n",
    "# API-Key;\n",
    "cryptocompare.cryptocompare._set_api_key_parameter(\"287be5a7c58273338d0ff216d8d1629272f5a8f0dedfb199d8f08b72f6eebd6e\");"
   ]
  },
  {
   "cell_type": "code",
   "execution_count": 16,
   "outputs": [
    {
     "data": {
      "text/plain": "['BTCD', 'CRAIG', 'XBS', 'XPY', 'PRC']"
     },
     "execution_count": 16,
     "metadata": {},
     "output_type": "execute_result"
    }
   ],
   "source": [
    "symbols = cryptocompare.get_coin_list(format = True);\n",
    "symbols[:5]"
   ],
   "metadata": {
    "collapsed": false,
    "pycharm": {
     "name": "#%%\n"
    }
   }
  },
  {
   "cell_type": "code",
   "execution_count": 9,
   "outputs": [],
   "source": [
    "cryptolist = pd.DataFrame(data={\"symbol\": symbols})\n",
    "cryptolist.to_csv(os.getcwd()[:os.getcwd().index('SENTICOIN')] + 'SENTICOIN/data/raw/crypto/cryptolist.csv', sep=',',index=False)"
   ],
   "metadata": {
    "collapsed": false,
    "pycharm": {
     "name": "#%%\n"
    }
   }
  }
 ],
 "metadata": {
  "kernelspec": {
   "name": "python397jvsc74a57bd0168f6cda3d50fc681db9d836fcf9b2ba2d1a5c4c3494289e41ad56deb928c409",
   "language": "python",
   "display_name": "Python 3.9.7 64-bit ('deeplearning': conda)"
  },
  "language_info": {
   "codemirror_mode": {
    "name": "ipython",
    "version": 2
   },
   "file_extension": ".py",
   "mimetype": "text/x-python",
   "name": "python",
   "nbconvert_exporter": "python",
   "pygments_lexer": "ipython2",
   "version": "2.7.6"
  }
 },
 "nbformat": 4,
 "nbformat_minor": 0
}