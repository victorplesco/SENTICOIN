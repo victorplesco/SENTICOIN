{
 "cells": [
  {
   "cell_type": "code",
   "execution_count": 1,
   "outputs": [],
   "source": [
    "import cryptocompare\n",
    "import pandas as pd\n",
    "import numpy as np\n",
    "import datetime\n",
    "import os\n",
    "\n",
    "# API-Key;\n",
    "cryptocompare.cryptocompare._set_api_key_parameter(\"INSERT_KEY\");"
   ],
   "metadata": {
    "collapsed": false,
    "pycharm": {
     "name": "#%%\n"
    }
   }
  },
  {
   "cell_type": "code",
   "execution_count": 2,
   "outputs": [
    {
     "name": "stdout",
     "output_type": "stream",
     "text": [
      "DOGE 7164\n",
      "All coins are available for download!\n"
     ]
    }
   ],
   "source": [
    "symbols = cryptocompare.get_coin_list(format = True);\n",
    "\n",
    "all_presence = 0;\n",
    "for i, symbol in enumerate(symbols):\n",
    "    if symbol in [\"DOGE\"]:\n",
    "        print(symbol, i);\n",
    "        all_presence += 1;\n",
    "        if all_presence == 1:\n",
    "            print(\"All coins are available for download!\");\n",
    "            break;"
   ],
   "metadata": {
    "collapsed": false,
    "pycharm": {
     "name": "#%%\n"
    }
   }
  },
  {
   "cell_type": "code",
   "execution_count": 4,
   "outputs": [],
   "source": [
    "home_path = os.getcwd()[:os.getcwd().index(\"SENTICOIN\")] + \"SENTICOIN/data/raw/crypto/@elonmusk/\";\n",
    "for coin in [\"DOGE\"]:\n",
    "    temp_dtf_cryptocurrency = pd.DataFrame(cryptocompare.get_historical_price_hour(coin=coin, currency=\"USD\", exchange='CCCAGG', limit=24, toTs=datetime.datetime(2021,2,5,1)));\n",
    "    temp_dtf_cryptocurrency['time'] = pd.to_datetime(temp_dtf_cryptocurrency['time'], unit='s');\n",
    "    temp_dtf_cryptocurrency.to_csv (home_path + coin + \".csv\", index=False, header=True);"
   ],
   "metadata": {
    "collapsed": false,
    "pycharm": {
     "name": "#%%\n"
    }
   }
  },
  {
   "cell_type": "code",
   "execution_count": 6,
   "outputs": [
    {
     "data": {
      "text/plain": "                  time     high      low     open    volumefrom     volumeto  \\\n0  2021-02-04 00:00:00  0.03748  0.03617  0.03735  8.434439e+07   3113935.87   \n1  2021-02-04 01:00:00  0.03746  0.03593  0.03642  6.189504e+07   2274655.49   \n2  2021-02-04 02:00:00  0.03979  0.03694  0.03694  1.669815e+08   6467393.56   \n3  2021-02-04 03:00:00  0.03926  0.03757  0.03878  1.051997e+08   4049486.62   \n4  2021-02-04 04:00:00  0.04139  0.03807  0.03855  1.766080e+08   7030319.49   \n5  2021-02-04 05:00:00  0.04355  0.03934  0.04132  3.437339e+08  14297205.19   \n6  2021-02-04 06:00:00  0.04130  0.03950  0.03955  9.330444e+07   3765664.96   \n7  2021-02-04 07:00:00  0.05203  0.03972  0.04004  4.336161e+08  20353838.59   \n8  2021-02-04 08:00:00  0.05965  0.04584  0.05101  1.016984e+09  54850231.53   \n9  2021-02-04 09:00:00  0.05147  0.04654  0.04662  2.815213e+08  13715151.37   \n10 2021-02-04 10:00:00  0.05439  0.04743  0.04875  2.127198e+08  10882604.74   \n11 2021-02-04 11:00:00  0.05486  0.05142  0.05170  1.819602e+08   9680689.56   \n12 2021-02-04 12:00:00  0.05400  0.04599  0.05400  3.200453e+08  15744994.97   \n13 2021-02-04 13:00:00  0.05246  0.04940  0.05009  2.137672e+08  10853991.67   \n14 2021-02-04 14:00:00  0.05394  0.04961  0.05178  2.038258e+08  10559010.26   \n15 2021-02-04 15:00:00  0.05047  0.04396  0.04990  2.436839e+08  11457711.44   \n16 2021-02-04 16:00:00  0.04775  0.04148  0.04702  1.865765e+08   8301814.32   \n17 2021-02-04 17:00:00  0.04841  0.04478  0.04684  1.563055e+08   7310094.55   \n18 2021-02-04 18:00:00  0.04946  0.04683  0.04769  1.350747e+08   6508523.51   \n19 2021-02-04 19:00:00  0.04878  0.04649  0.04824  8.011152e+07   3806839.74   \n20 2021-02-04 20:00:00  0.04975  0.04803  0.04827  7.581333e+07   3712096.23   \n21 2021-02-04 21:00:00  0.05172  0.04826  0.04826  1.149963e+08   5789380.37   \n22 2021-02-04 22:00:00  0.05308  0.04913  0.05073  1.315642e+08   6698536.29   \n23 2021-02-04 23:00:00  0.05681  0.05162  0.05289  2.826255e+08  15162116.44   \n24 2021-02-05 00:00:00  0.05314  0.04893  0.05309  2.550217e+08  12934403.10   \n\n      close conversionType conversionSymbol  \n0   0.03642         direct                   \n1   0.03694         direct                   \n2   0.03878         direct                   \n3   0.03855         direct                   \n4   0.04132         direct                   \n5   0.03955         direct                   \n6   0.04004         direct                   \n7   0.05101         direct                   \n8   0.04662         direct                   \n9   0.04875         direct                   \n10  0.05170         direct                   \n11  0.05400         direct                   \n12  0.05009         direct                   \n13  0.05178         direct                   \n14  0.04990         direct                   \n15  0.04702         direct                   \n16  0.04684         direct                   \n17  0.04769         direct                   \n18  0.04824         direct                   \n19  0.04827         direct                   \n20  0.04826         direct                   \n21  0.05073         direct                   \n22  0.05289         direct                   \n23  0.05309         direct                   \n24  0.05215         direct                   ",
      "text/html": "<div>\n<style scoped>\n    .dataframe tbody tr th:only-of-type {\n        vertical-align: middle;\n    }\n\n    .dataframe tbody tr th {\n        vertical-align: top;\n    }\n\n    .dataframe thead th {\n        text-align: right;\n    }\n</style>\n<table border=\"1\" class=\"dataframe\">\n  <thead>\n    <tr style=\"text-align: right;\">\n      <th></th>\n      <th>time</th>\n      <th>high</th>\n      <th>low</th>\n      <th>open</th>\n      <th>volumefrom</th>\n      <th>volumeto</th>\n      <th>close</th>\n      <th>conversionType</th>\n      <th>conversionSymbol</th>\n    </tr>\n  </thead>\n  <tbody>\n    <tr>\n      <th>0</th>\n      <td>2021-02-04 00:00:00</td>\n      <td>0.03748</td>\n      <td>0.03617</td>\n      <td>0.03735</td>\n      <td>8.434439e+07</td>\n      <td>3113935.87</td>\n      <td>0.03642</td>\n      <td>direct</td>\n      <td></td>\n    </tr>\n    <tr>\n      <th>1</th>\n      <td>2021-02-04 01:00:00</td>\n      <td>0.03746</td>\n      <td>0.03593</td>\n      <td>0.03642</td>\n      <td>6.189504e+07</td>\n      <td>2274655.49</td>\n      <td>0.03694</td>\n      <td>direct</td>\n      <td></td>\n    </tr>\n    <tr>\n      <th>2</th>\n      <td>2021-02-04 02:00:00</td>\n      <td>0.03979</td>\n      <td>0.03694</td>\n      <td>0.03694</td>\n      <td>1.669815e+08</td>\n      <td>6467393.56</td>\n      <td>0.03878</td>\n      <td>direct</td>\n      <td></td>\n    </tr>\n    <tr>\n      <th>3</th>\n      <td>2021-02-04 03:00:00</td>\n      <td>0.03926</td>\n      <td>0.03757</td>\n      <td>0.03878</td>\n      <td>1.051997e+08</td>\n      <td>4049486.62</td>\n      <td>0.03855</td>\n      <td>direct</td>\n      <td></td>\n    </tr>\n    <tr>\n      <th>4</th>\n      <td>2021-02-04 04:00:00</td>\n      <td>0.04139</td>\n      <td>0.03807</td>\n      <td>0.03855</td>\n      <td>1.766080e+08</td>\n      <td>7030319.49</td>\n      <td>0.04132</td>\n      <td>direct</td>\n      <td></td>\n    </tr>\n    <tr>\n      <th>5</th>\n      <td>2021-02-04 05:00:00</td>\n      <td>0.04355</td>\n      <td>0.03934</td>\n      <td>0.04132</td>\n      <td>3.437339e+08</td>\n      <td>14297205.19</td>\n      <td>0.03955</td>\n      <td>direct</td>\n      <td></td>\n    </tr>\n    <tr>\n      <th>6</th>\n      <td>2021-02-04 06:00:00</td>\n      <td>0.04130</td>\n      <td>0.03950</td>\n      <td>0.03955</td>\n      <td>9.330444e+07</td>\n      <td>3765664.96</td>\n      <td>0.04004</td>\n      <td>direct</td>\n      <td></td>\n    </tr>\n    <tr>\n      <th>7</th>\n      <td>2021-02-04 07:00:00</td>\n      <td>0.05203</td>\n      <td>0.03972</td>\n      <td>0.04004</td>\n      <td>4.336161e+08</td>\n      <td>20353838.59</td>\n      <td>0.05101</td>\n      <td>direct</td>\n      <td></td>\n    </tr>\n    <tr>\n      <th>8</th>\n      <td>2021-02-04 08:00:00</td>\n      <td>0.05965</td>\n      <td>0.04584</td>\n      <td>0.05101</td>\n      <td>1.016984e+09</td>\n      <td>54850231.53</td>\n      <td>0.04662</td>\n      <td>direct</td>\n      <td></td>\n    </tr>\n    <tr>\n      <th>9</th>\n      <td>2021-02-04 09:00:00</td>\n      <td>0.05147</td>\n      <td>0.04654</td>\n      <td>0.04662</td>\n      <td>2.815213e+08</td>\n      <td>13715151.37</td>\n      <td>0.04875</td>\n      <td>direct</td>\n      <td></td>\n    </tr>\n    <tr>\n      <th>10</th>\n      <td>2021-02-04 10:00:00</td>\n      <td>0.05439</td>\n      <td>0.04743</td>\n      <td>0.04875</td>\n      <td>2.127198e+08</td>\n      <td>10882604.74</td>\n      <td>0.05170</td>\n      <td>direct</td>\n      <td></td>\n    </tr>\n    <tr>\n      <th>11</th>\n      <td>2021-02-04 11:00:00</td>\n      <td>0.05486</td>\n      <td>0.05142</td>\n      <td>0.05170</td>\n      <td>1.819602e+08</td>\n      <td>9680689.56</td>\n      <td>0.05400</td>\n      <td>direct</td>\n      <td></td>\n    </tr>\n    <tr>\n      <th>12</th>\n      <td>2021-02-04 12:00:00</td>\n      <td>0.05400</td>\n      <td>0.04599</td>\n      <td>0.05400</td>\n      <td>3.200453e+08</td>\n      <td>15744994.97</td>\n      <td>0.05009</td>\n      <td>direct</td>\n      <td></td>\n    </tr>\n    <tr>\n      <th>13</th>\n      <td>2021-02-04 13:00:00</td>\n      <td>0.05246</td>\n      <td>0.04940</td>\n      <td>0.05009</td>\n      <td>2.137672e+08</td>\n      <td>10853991.67</td>\n      <td>0.05178</td>\n      <td>direct</td>\n      <td></td>\n    </tr>\n    <tr>\n      <th>14</th>\n      <td>2021-02-04 14:00:00</td>\n      <td>0.05394</td>\n      <td>0.04961</td>\n      <td>0.05178</td>\n      <td>2.038258e+08</td>\n      <td>10559010.26</td>\n      <td>0.04990</td>\n      <td>direct</td>\n      <td></td>\n    </tr>\n    <tr>\n      <th>15</th>\n      <td>2021-02-04 15:00:00</td>\n      <td>0.05047</td>\n      <td>0.04396</td>\n      <td>0.04990</td>\n      <td>2.436839e+08</td>\n      <td>11457711.44</td>\n      <td>0.04702</td>\n      <td>direct</td>\n      <td></td>\n    </tr>\n    <tr>\n      <th>16</th>\n      <td>2021-02-04 16:00:00</td>\n      <td>0.04775</td>\n      <td>0.04148</td>\n      <td>0.04702</td>\n      <td>1.865765e+08</td>\n      <td>8301814.32</td>\n      <td>0.04684</td>\n      <td>direct</td>\n      <td></td>\n    </tr>\n    <tr>\n      <th>17</th>\n      <td>2021-02-04 17:00:00</td>\n      <td>0.04841</td>\n      <td>0.04478</td>\n      <td>0.04684</td>\n      <td>1.563055e+08</td>\n      <td>7310094.55</td>\n      <td>0.04769</td>\n      <td>direct</td>\n      <td></td>\n    </tr>\n    <tr>\n      <th>18</th>\n      <td>2021-02-04 18:00:00</td>\n      <td>0.04946</td>\n      <td>0.04683</td>\n      <td>0.04769</td>\n      <td>1.350747e+08</td>\n      <td>6508523.51</td>\n      <td>0.04824</td>\n      <td>direct</td>\n      <td></td>\n    </tr>\n    <tr>\n      <th>19</th>\n      <td>2021-02-04 19:00:00</td>\n      <td>0.04878</td>\n      <td>0.04649</td>\n      <td>0.04824</td>\n      <td>8.011152e+07</td>\n      <td>3806839.74</td>\n      <td>0.04827</td>\n      <td>direct</td>\n      <td></td>\n    </tr>\n    <tr>\n      <th>20</th>\n      <td>2021-02-04 20:00:00</td>\n      <td>0.04975</td>\n      <td>0.04803</td>\n      <td>0.04827</td>\n      <td>7.581333e+07</td>\n      <td>3712096.23</td>\n      <td>0.04826</td>\n      <td>direct</td>\n      <td></td>\n    </tr>\n    <tr>\n      <th>21</th>\n      <td>2021-02-04 21:00:00</td>\n      <td>0.05172</td>\n      <td>0.04826</td>\n      <td>0.04826</td>\n      <td>1.149963e+08</td>\n      <td>5789380.37</td>\n      <td>0.05073</td>\n      <td>direct</td>\n      <td></td>\n    </tr>\n    <tr>\n      <th>22</th>\n      <td>2021-02-04 22:00:00</td>\n      <td>0.05308</td>\n      <td>0.04913</td>\n      <td>0.05073</td>\n      <td>1.315642e+08</td>\n      <td>6698536.29</td>\n      <td>0.05289</td>\n      <td>direct</td>\n      <td></td>\n    </tr>\n    <tr>\n      <th>23</th>\n      <td>2021-02-04 23:00:00</td>\n      <td>0.05681</td>\n      <td>0.05162</td>\n      <td>0.05289</td>\n      <td>2.826255e+08</td>\n      <td>15162116.44</td>\n      <td>0.05309</td>\n      <td>direct</td>\n      <td></td>\n    </tr>\n    <tr>\n      <th>24</th>\n      <td>2021-02-05 00:00:00</td>\n      <td>0.05314</td>\n      <td>0.04893</td>\n      <td>0.05309</td>\n      <td>2.550217e+08</td>\n      <td>12934403.10</td>\n      <td>0.05215</td>\n      <td>direct</td>\n      <td></td>\n    </tr>\n  </tbody>\n</table>\n</div>"
     },
     "execution_count": 6,
     "metadata": {},
     "output_type": "execute_result"
    }
   ],
   "source": [
    "temp_dtf_cryptocurrency"
   ],
   "metadata": {
    "collapsed": false,
    "pycharm": {
     "name": "#%%\n"
    }
   }
  }
 ],
 "metadata": {
  "kernelspec": {
   "display_name": "Python 3",
   "language": "python",
   "name": "python3"
  },
  "language_info": {
   "codemirror_mode": {
    "name": "ipython",
    "version": 2
   },
   "file_extension": ".py",
   "mimetype": "text/x-python",
   "name": "python",
   "nbconvert_exporter": "python",
   "pygments_lexer": "ipython2",
   "version": "2.7.6"
  }
 },
 "nbformat": 4,
 "nbformat_minor": 0
}