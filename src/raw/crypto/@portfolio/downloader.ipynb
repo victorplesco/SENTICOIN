{
 "cells": [
  {
   "cell_type": "code",
   "execution_count": 5,
   "outputs": [],
   "source": [
    "import cryptocompare\n",
    "import pandas as pd\n",
    "import numpy as np\n",
    "import datetime\n",
    "import os\n",
    "\n",
    "# API-Key;\n",
    "cryptocompare.cryptocompare._set_api_key_parameter(\"INSERT_KEY\");"
   ],
   "metadata": {
    "collapsed": false,
    "pycharm": {
     "name": "#%%\n"
    }
   }
  },
  {
   "cell_type": "code",
   "execution_count": 6,
   "source": [
    "symbols = cryptocompare.get_coin_list(format = True);\n",
    "\n",
    "all_presence = 0; \n",
    "for i, symbol in enumerate(symbols):\n",
    "    if symbol in [\"ETH\", \"XRP\", \"ADA\", \"DOGE\", \"DOT\", \"SOL\", \"UNI\", \"AVAX\", \"LTC\"]:\n",
    "        print(symbol, i); \n",
    "        all_presence += 1; \n",
    "        if all_presence == 9:\n",
    "           print(\"All coins are available for download!\"); \n",
    "           break; "
   ],
   "outputs": [
    {
     "name": "stdout",
     "output_type": "stream",
     "text": [
      "AVAX 6145\n",
      "LTC 6600\n",
      "UNI 6836\n",
      "SOL 6924\n",
      "XRP 6963\n",
      "DOT 7017\n",
      "ADA 7024\n",
      "ETH 7070\n",
      "DOGE 7163\n",
      "All coins are available for download!\n"
     ]
    }
   ],
   "metadata": {}
  },
  {
   "cell_type": "code",
   "execution_count": 8,
   "source": [
    "home_path = os.getcwd()[:os.getcwd().index(\"SENTICOIN\")] + \"SENTICOIN/data/raw/crypto/@portfolio/\";\n",
    "for coin in [\"ETH\", \"XRP\", \"ADA\", \"DOGE\", \"DOT\", \"SOL\", \"UNI\", \"AVAX\", \"LTC\"]:    \n",
    "    temp_dtf_cryptocurrency = pd.DataFrame(cryptocompare.get_historical_price_hour(coin=coin, currency=\"USD\", exchange='CCCAGG', limit=672, toTs=datetime.datetime(2021,9,27,2)));\n",
    "    temp_dtf_cryptocurrency['time'] = pd.to_datetime(temp_dtf_cryptocurrency['time'], unit='s'); \n",
    "    temp_dtf_cryptocurrency.to_csv (home_path + coin + \".csv\", index=False, header=True);"
   ],
   "outputs": [],
   "metadata": {
    "pycharm": {
     "name": "#%%\n"
    }
   }
  },
  {
   "cell_type": "code",
   "execution_count": 9,
   "outputs": [
    {
     "data": {
      "text/plain": "                 time    high     low    open  volumefrom    volumeto   close  \\\n0 2021-08-30 00:00:00  175.13  172.56  174.44    31997.17  5557065.46  172.80   \n1 2021-08-30 01:00:00  174.40  172.65  172.80    21795.87  3785668.96  173.49   \n2 2021-08-30 02:00:00  174.47  173.33  173.49    16350.17  2844028.66  173.74   \n3 2021-08-30 03:00:00  174.16  171.74  173.74    28124.00  4859096.09  172.40   \n4 2021-08-30 04:00:00  173.18  171.76  172.40    17296.26  2978217.53  172.09   \n5 2021-08-30 05:00:00  172.88  171.78  172.09    12495.79  2154285.06  172.24   \n6 2021-08-30 06:00:00  172.64  170.96  172.24    25244.40  4337508.20  172.16   \n7 2021-08-30 07:00:00  173.09  171.69  172.16    13731.21  2367890.46  172.81   \n8 2021-08-30 08:00:00  173.87  172.60  172.81     9921.39  1719595.18  173.55   \n9 2021-08-30 09:00:00  173.59  172.66  173.55    10140.82  1755275.51  172.70   \n\n  conversionType conversionSymbol  \n0         direct                   \n1         direct                   \n2         direct                   \n3         direct                   \n4         direct                   \n5         direct                   \n6         direct                   \n7         direct                   \n8         direct                   \n9         direct                   ",
      "text/html": "<div>\n<style scoped>\n    .dataframe tbody tr th:only-of-type {\n        vertical-align: middle;\n    }\n\n    .dataframe tbody tr th {\n        vertical-align: top;\n    }\n\n    .dataframe thead th {\n        text-align: right;\n    }\n</style>\n<table border=\"1\" class=\"dataframe\">\n  <thead>\n    <tr style=\"text-align: right;\">\n      <th></th>\n      <th>time</th>\n      <th>high</th>\n      <th>low</th>\n      <th>open</th>\n      <th>volumefrom</th>\n      <th>volumeto</th>\n      <th>close</th>\n      <th>conversionType</th>\n      <th>conversionSymbol</th>\n    </tr>\n  </thead>\n  <tbody>\n    <tr>\n      <th>0</th>\n      <td>2021-08-30 00:00:00</td>\n      <td>175.13</td>\n      <td>172.56</td>\n      <td>174.44</td>\n      <td>31997.17</td>\n      <td>5557065.46</td>\n      <td>172.80</td>\n      <td>direct</td>\n      <td></td>\n    </tr>\n    <tr>\n      <th>1</th>\n      <td>2021-08-30 01:00:00</td>\n      <td>174.40</td>\n      <td>172.65</td>\n      <td>172.80</td>\n      <td>21795.87</td>\n      <td>3785668.96</td>\n      <td>173.49</td>\n      <td>direct</td>\n      <td></td>\n    </tr>\n    <tr>\n      <th>2</th>\n      <td>2021-08-30 02:00:00</td>\n      <td>174.47</td>\n      <td>173.33</td>\n      <td>173.49</td>\n      <td>16350.17</td>\n      <td>2844028.66</td>\n      <td>173.74</td>\n      <td>direct</td>\n      <td></td>\n    </tr>\n    <tr>\n      <th>3</th>\n      <td>2021-08-30 03:00:00</td>\n      <td>174.16</td>\n      <td>171.74</td>\n      <td>173.74</td>\n      <td>28124.00</td>\n      <td>4859096.09</td>\n      <td>172.40</td>\n      <td>direct</td>\n      <td></td>\n    </tr>\n    <tr>\n      <th>4</th>\n      <td>2021-08-30 04:00:00</td>\n      <td>173.18</td>\n      <td>171.76</td>\n      <td>172.40</td>\n      <td>17296.26</td>\n      <td>2978217.53</td>\n      <td>172.09</td>\n      <td>direct</td>\n      <td></td>\n    </tr>\n    <tr>\n      <th>5</th>\n      <td>2021-08-30 05:00:00</td>\n      <td>172.88</td>\n      <td>171.78</td>\n      <td>172.09</td>\n      <td>12495.79</td>\n      <td>2154285.06</td>\n      <td>172.24</td>\n      <td>direct</td>\n      <td></td>\n    </tr>\n    <tr>\n      <th>6</th>\n      <td>2021-08-30 06:00:00</td>\n      <td>172.64</td>\n      <td>170.96</td>\n      <td>172.24</td>\n      <td>25244.40</td>\n      <td>4337508.20</td>\n      <td>172.16</td>\n      <td>direct</td>\n      <td></td>\n    </tr>\n    <tr>\n      <th>7</th>\n      <td>2021-08-30 07:00:00</td>\n      <td>173.09</td>\n      <td>171.69</td>\n      <td>172.16</td>\n      <td>13731.21</td>\n      <td>2367890.46</td>\n      <td>172.81</td>\n      <td>direct</td>\n      <td></td>\n    </tr>\n    <tr>\n      <th>8</th>\n      <td>2021-08-30 08:00:00</td>\n      <td>173.87</td>\n      <td>172.60</td>\n      <td>172.81</td>\n      <td>9921.39</td>\n      <td>1719595.18</td>\n      <td>173.55</td>\n      <td>direct</td>\n      <td></td>\n    </tr>\n    <tr>\n      <th>9</th>\n      <td>2021-08-30 09:00:00</td>\n      <td>173.59</td>\n      <td>172.66</td>\n      <td>173.55</td>\n      <td>10140.82</td>\n      <td>1755275.51</td>\n      <td>172.70</td>\n      <td>direct</td>\n      <td></td>\n    </tr>\n  </tbody>\n</table>\n</div>"
     },
     "execution_count": 9,
     "metadata": {},
     "output_type": "execute_result"
    }
   ],
   "source": [
    "temp_dtf_cryptocurrency.head(10)"
   ],
   "metadata": {
    "collapsed": false,
    "pycharm": {
     "name": "#%%\n"
    }
   }
  }
 ],
 "metadata": {
  "orig_nbformat": 4,
  "language_info": {
   "name": "python",
   "version": "3.8.6",
   "mimetype": "text/x-python",
   "codemirror_mode": {
    "name": "ipython",
    "version": 3
   },
   "pygments_lexer": "ipython3",
   "nbconvert_exporter": "python",
   "file_extension": ".py"
  },
  "kernelspec": {
   "name": "python397jvsc74a57bd0168f6cda3d50fc681db9d836fcf9b2ba2d1a5c4c3494289e41ad56deb928c409",
   "language": "python",
   "display_name": "Python 3.9.7 64-bit ('deeplearning': conda)"
  },
  "interpreter": {
   "hash": "045f8fa4dcc00e370b010972ccde0b788768f47a5b9f3af899df0e9c68f6dfbe"
  }
 },
 "nbformat": 4,
 "nbformat_minor": 2
}