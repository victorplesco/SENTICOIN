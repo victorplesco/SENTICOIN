{
 "cells": [
  {
   "cell_type": "markdown",
   "metadata": {
    "collapsed": true,
    "pycharm": {
     "name": "#%% md\n"
    }
   },
   "source": [
    "# Setup Environment"
   ]
  },
  {
   "cell_type": "code",
   "execution_count": 1,
   "outputs": [
    {
     "name": "stderr",
     "output_type": "stream",
     "text": [
      "[nltk_data] Downloading package vader_lexicon to\n",
      "[nltk_data]     /home/vrpo/nltk_data...\n",
      "[nltk_data]   Package vader_lexicon is already up-to-date!\n"
     ]
    }
   ],
   "source": [
    "import nltk\n",
    "nltk.download('vader_lexicon')\n",
    "from nltk.sentiment.vader import SentimentIntensityAnalyzer\n",
    "import pandas as pd\n",
    "import numpy as np\n",
    "import os"
   ],
   "metadata": {
    "collapsed": false,
    "pycharm": {
     "name": "#%%\n"
    }
   }
  },
  {
   "cell_type": "markdown",
   "source": [
    "# Data"
   ],
   "metadata": {
    "collapsed": false,
    "pycharm": {
     "name": "#%% md\n"
    }
   }
  },
  {
   "cell_type": "code",
   "execution_count": 19,
   "outputs": [
    {
     "name": "stdout",
     "output_type": "stream",
     "text": [
      "                                                text\n",
      "0                        @PoisonJL @elonmusk *cough*\n",
      "1       @sethrosson @elonmusk In Papa Elon we trust.\n",
      "2  @RottenAl @dannybuntu @PoisonJL @elonmusk @dog...\n",
      "3  @davidgokhshtein @elonmusk SPREAD THE WORD 🚀 🚀...\n",
      "4  @elonmusk Elon the people need one more Doge t...\n"
     ]
    }
   ],
   "source": [
    "dtf_retweets = pd.read_csv(os.getcwd()[:os.getcwd().index(\"SENTICOIN\")] + \"SENTICOIN/data/raw/twitter/@elonmusk/csv/retweets.csv\")[[\"text\"]];\n",
    "print(dtf_retweets[:5]);"
   ],
   "metadata": {
    "collapsed": false,
    "pycharm": {
     "name": "#%%\n"
    }
   }
  },
  {
   "cell_type": "markdown",
   "source": [
    "# VADER: Valence Aware Dictionary and sEntiment Reasoner"
   ],
   "metadata": {
    "collapsed": false
   }
  },
  {
   "cell_type": "code",
   "execution_count": 14,
   "outputs": [],
   "source": [
    "model = SentimentIntensityAnalyzer()"
   ],
   "metadata": {
    "collapsed": false,
    "pycharm": {
     "name": "#%%\n"
    }
   }
  },
  {
   "cell_type": "markdown",
   "source": [
    "# Predicting Sentiment of @elonmusk's Retweets"
   ],
   "metadata": {
    "collapsed": false,
    "pycharm": {
     "name": "#%% md\n"
    }
   }
  },
  {
   "cell_type": "code",
   "execution_count": 20,
   "outputs": [],
   "source": [
    "dtf_retweets['scores'] = dtf_retweets['text'].apply(lambda text: model.polarity_scores(text))"
   ],
   "metadata": {
    "collapsed": false,
    "pycharm": {
     "name": "#%%\n"
    }
   }
  },
  {
   "cell_type": "code",
   "execution_count": 21,
   "outputs": [
    {
     "data": {
      "text/plain": "                                                text  \\\n0                        @PoisonJL @elonmusk *cough*   \n1       @sethrosson @elonmusk In Papa Elon we trust.   \n2  @RottenAl @dannybuntu @PoisonJL @elonmusk @dog...   \n3  @davidgokhshtein @elonmusk SPREAD THE WORD 🚀 🚀...   \n4  @elonmusk Elon the people need one more Doge t...   \n\n                                              scores  \n0  {'neg': 0.0, 'neu': 1.0, 'pos': 0.0, 'compound...  \n1  {'neg': 0.0, 'neu': 0.645, 'pos': 0.355, 'comp...  \n2  {'neg': 0.124, 'neu': 0.876, 'pos': 0.0, 'comp...  \n3  {'neg': 0.0, 'neu': 1.0, 'pos': 0.0, 'compound...  \n4  {'neg': 0.0, 'neu': 1.0, 'pos': 0.0, 'compound...  ",
      "text/html": "<div>\n<style scoped>\n    .dataframe tbody tr th:only-of-type {\n        vertical-align: middle;\n    }\n\n    .dataframe tbody tr th {\n        vertical-align: top;\n    }\n\n    .dataframe thead th {\n        text-align: right;\n    }\n</style>\n<table border=\"1\" class=\"dataframe\">\n  <thead>\n    <tr style=\"text-align: right;\">\n      <th></th>\n      <th>text</th>\n      <th>scores</th>\n    </tr>\n  </thead>\n  <tbody>\n    <tr>\n      <th>0</th>\n      <td>@PoisonJL @elonmusk *cough*</td>\n      <td>{'neg': 0.0, 'neu': 1.0, 'pos': 0.0, 'compound...</td>\n    </tr>\n    <tr>\n      <th>1</th>\n      <td>@sethrosson @elonmusk In Papa Elon we trust.</td>\n      <td>{'neg': 0.0, 'neu': 0.645, 'pos': 0.355, 'comp...</td>\n    </tr>\n    <tr>\n      <th>2</th>\n      <td>@RottenAl @dannybuntu @PoisonJL @elonmusk @dog...</td>\n      <td>{'neg': 0.124, 'neu': 0.876, 'pos': 0.0, 'comp...</td>\n    </tr>\n    <tr>\n      <th>3</th>\n      <td>@davidgokhshtein @elonmusk SPREAD THE WORD 🚀 🚀...</td>\n      <td>{'neg': 0.0, 'neu': 1.0, 'pos': 0.0, 'compound...</td>\n    </tr>\n    <tr>\n      <th>4</th>\n      <td>@elonmusk Elon the people need one more Doge t...</td>\n      <td>{'neg': 0.0, 'neu': 1.0, 'pos': 0.0, 'compound...</td>\n    </tr>\n  </tbody>\n</table>\n</div>"
     },
     "execution_count": 21,
     "metadata": {},
     "output_type": "execute_result"
    }
   ],
   "source": [
    "dtf_retweets.head(5)"
   ],
   "metadata": {
    "collapsed": false,
    "pycharm": {
     "name": "#%%\n"
    }
   }
  },
  {
   "cell_type": "code",
   "execution_count": 22,
   "outputs": [],
   "source": [
    "for i in range(len(dtf_retweets)):\n",
    "    scores_list = list(dtf_retweets[\"scores\"].iloc[i].values())\n",
    "\n",
    "    dtf_retweets.loc[i, \"Positive\"] = scores_list[2];\n",
    "    dtf_retweets.loc[i, \"Negative\"] = scores_list[0];\n",
    "    dtf_retweets.loc[i, \"Neutral\"]  = scores_list[1];\n",
    "\n",
    "    del scores_list\n",
    "dtf_retweets.drop([\"scores\"], axis=1, inplace=True);"
   ],
   "metadata": {
    "collapsed": false,
    "pycharm": {
     "name": "#%%\n"
    }
   }
  },
  {
   "cell_type": "code",
   "execution_count": 23,
   "outputs": [
    {
     "data": {
      "text/plain": "                                                text  Positive  Negative  \\\n0                        @PoisonJL @elonmusk *cough*     0.000     0.000   \n1       @sethrosson @elonmusk In Papa Elon we trust.     0.355     0.000   \n2  @RottenAl @dannybuntu @PoisonJL @elonmusk @dog...     0.000     0.124   \n3  @davidgokhshtein @elonmusk SPREAD THE WORD 🚀 🚀...     0.000     0.000   \n4  @elonmusk Elon the people need one more Doge t...     0.000     0.000   \n\n   Neutral  \n0    1.000  \n1    0.645  \n2    0.876  \n3    1.000  \n4    1.000  ",
      "text/html": "<div>\n<style scoped>\n    .dataframe tbody tr th:only-of-type {\n        vertical-align: middle;\n    }\n\n    .dataframe tbody tr th {\n        vertical-align: top;\n    }\n\n    .dataframe thead th {\n        text-align: right;\n    }\n</style>\n<table border=\"1\" class=\"dataframe\">\n  <thead>\n    <tr style=\"text-align: right;\">\n      <th></th>\n      <th>text</th>\n      <th>Positive</th>\n      <th>Negative</th>\n      <th>Neutral</th>\n    </tr>\n  </thead>\n  <tbody>\n    <tr>\n      <th>0</th>\n      <td>@PoisonJL @elonmusk *cough*</td>\n      <td>0.000</td>\n      <td>0.000</td>\n      <td>1.000</td>\n    </tr>\n    <tr>\n      <th>1</th>\n      <td>@sethrosson @elonmusk In Papa Elon we trust.</td>\n      <td>0.355</td>\n      <td>0.000</td>\n      <td>0.645</td>\n    </tr>\n    <tr>\n      <th>2</th>\n      <td>@RottenAl @dannybuntu @PoisonJL @elonmusk @dog...</td>\n      <td>0.000</td>\n      <td>0.124</td>\n      <td>0.876</td>\n    </tr>\n    <tr>\n      <th>3</th>\n      <td>@davidgokhshtein @elonmusk SPREAD THE WORD 🚀 🚀...</td>\n      <td>0.000</td>\n      <td>0.000</td>\n      <td>1.000</td>\n    </tr>\n    <tr>\n      <th>4</th>\n      <td>@elonmusk Elon the people need one more Doge t...</td>\n      <td>0.000</td>\n      <td>0.000</td>\n      <td>1.000</td>\n    </tr>\n  </tbody>\n</table>\n</div>"
     },
     "execution_count": 23,
     "metadata": {},
     "output_type": "execute_result"
    }
   ],
   "source": [
    "dtf_retweets.head(5)"
   ],
   "metadata": {
    "collapsed": false,
    "pycharm": {
     "name": "#%%\n"
    }
   }
  },
  {
   "cell_type": "markdown",
   "source": [
    "# Save"
   ],
   "metadata": {
    "collapsed": false,
    "pycharm": {
     "name": "#%% md\n"
    }
   }
  },
  {
   "cell_type": "code",
   "execution_count": 24,
   "outputs": [],
   "source": [
    "dtf_retweets.to_csv(os.getcwd()[:os.getcwd().index(\"SENTICOIN\")] + \"SENTICOIN/data/processed/models/sentiment/VADER.csv\", index=False);"
   ],
   "metadata": {
    "collapsed": false,
    "pycharm": {
     "name": "#%%\n"
    }
   }
  }
 ],
 "metadata": {
  "kernelspec": {
   "display_name": "Python 3",
   "language": "python",
   "name": "python3"
  },
  "language_info": {
   "codemirror_mode": {
    "name": "ipython",
    "version": 2
   },
   "file_extension": ".py",
   "mimetype": "text/x-python",
   "name": "python",
   "nbconvert_exporter": "python",
   "pygments_lexer": "ipython2",
   "version": "2.7.6"
  }
 },
 "nbformat": 4,
 "nbformat_minor": 0
}